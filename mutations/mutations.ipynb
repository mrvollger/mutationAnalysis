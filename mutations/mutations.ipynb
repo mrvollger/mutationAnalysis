{
 "cells": [
  {
   "cell_type": "code",
   "execution_count": 100,
   "metadata": {
    "collapsed": true
   },
   "outputs": [],
   "source": [
    "import vcf\n",
    "import vcf.filters\n",
    "import sys\n",
    "import numpy as np\n",
    "from glob import glob\n",
    "import os\n",
    "import re\n",
    "os.chdir(\"/home/mitchell/IW/hmm/freebayes\")\n",
    "\n"
   ]
  },
  {
   "cell_type": "code",
   "execution_count": 113,
   "metadata": {
    "collapsed": false
   },
   "outputs": [],
   "source": [
    "frac = 0.4\n",
    "depthmin = 20\n",
    "depthmax = 100\n",
    "debug = True\n",
    "\n",
    "def printd(s):\n",
    "    if(debug):\n",
    "        print(s)\n",
    "\n",
    "def key_func(s):\n",
    "    return [int(x) if x.isdigit() else x for x in re.findall(r'\\D+|\\d+', s)]\n",
    "\n",
    "def writeFile(fName, dic):\n",
    "    os.chdir(\"/home/mitchell/IW/hmm/mutations\")\n",
    "    f = open(fName, \"aw+\")\n",
    "    for key in sorted(dic, key=key_func):\n",
    "        f.write(key + \"\\t\" + str( dic[key] ) + \"\\n\")\n",
    "    f.close()\n",
    "    os.chdir(\"/home/mitchell/IW/hmm/freebayes\")\n",
    "\n",
    "    \n",
    "def loadoriginal(x, a):\n",
    "    for r in x:\n",
    "        dp = str(r.INFO['DP'])\n",
    "        ao =  str(r.INFO['AO']).strip('[]')\n",
    "        alt = str(r.ALT).strip('[]')\n",
    "        key = r.CHROM +\"\\t\" \n",
    "        pos = str(r.POS)\n",
    "        a[key+pos] = r.REF +\"\\t\"+ alt +\"\\t\"+ dp + \"\\t\" + ao\n",
    "            \n",
    "def findchanges(x, a):\n",
    "    rtn = {}\n",
    "    for r in x:\n",
    "        dp = float(r.INFO['DP'])\n",
    "        ao = float( r.INFO['AO'][0] )\n",
    "        alt = str(r.ALT).strip('[]')\n",
    "        key = r.CHROM +\"\\t\" + str(r.POS)\n",
    "\n",
    "        con1 = r.INFO['TYPE'][0] == 'snp'\n",
    "        con2 = ( 1 - frac > ao/dp > frac )\n",
    "        con3 = (depthmax > dp > depthmin)\n",
    "        con4 = key not in a\n",
    "        con5 = (len(alt) < 2)\n",
    "    \n",
    "        if(con1 and con2 and con3 and con4 and con5):\n",
    "            dp = str(r.INFO['DP'])\n",
    "            ao =  str(r.INFO['AO']).strip('[]')\n",
    "            rtn[key] = r.REF+ \">\" + alt + \"\\t\" + r.REF +\"\\t\"+ alt +\"\\t\"+ dp + \"\\t\" + ao\n",
    "    \n",
    "    return rtn\n",
    "\n",
    "def clearfiles(files):\n",
    "    for f in files:\n",
    "        name = f.split(\".\")[0][:-1]+\".mutations\"\n",
    "        os.chdir(\"/home/mitchell/IW/hmm/mutations\")\n",
    "        open(name, \"w+\").close()\n",
    "        os.chdir(\"/home/mitchell/IW/hmm/freebayes\")\n",
    "\n"
   ]
  },
  {
   "cell_type": "code",
   "execution_count": 114,
   "metadata": {
    "collapsed": false
   },
   "outputs": [],
   "source": [
    "f = open(\"a++.vcf\", \"rt\")\n",
    "f2 = open(\"a+-.vcf\", \"rt\")\n",
    "f3 = open(\"a--.vcf\", \"rt\")\n",
    "x1 = vcf.Reader(f)\n",
    "x2 = vcf.Reader(f2)\n",
    "x3 = vcf.Reader(f3)\n",
    "\n",
    "a1 = {}\n",
    "a2 = {}\n",
    "a3 = {}\n",
    "\n",
    "loadoriginal(x1,a1)\n",
    "loadoriginal(x2,a2)\n",
    "loadoriginal(x3,a3)    \n"
   ]
  },
  {
   "cell_type": "code",
   "execution_count": 115,
   "metadata": {
    "collapsed": false
   },
   "outputs": [],
   "source": [
    "files = glob('cis*vcf')\n",
    "files.extend(glob('uv*vcf'))\n",
    "\n",
    "mutations = []\n",
    "\n",
    "clearfiles(files)\n",
    "\n",
    "for f in files:\n",
    "    name = f.split(\".\")[0][:-1]+\".mutations\"\n",
    "    x = vcf.Reader(open(f,\"rt\"))\n",
    "    temp = findchanges(x, a1)\n",
    "    writeFile(name, temp)\n",
    "    mutations.append( temp )\n",
    "    "
   ]
  },
  {
   "cell_type": "code",
   "execution_count": 116,
   "metadata": {
    "collapsed": false
   },
   "outputs": [
    {
     "name": "stdout",
     "output_type": "stream",
     "text": [
      "['cis--3.vcf', 'cis--1.vcf', 'cis--2.vcf', 'cis++3.vcf', 'cis+-2.vcf', 'cis++2.vcf', 'cis+-1.vcf', 'cis++1.vcf', 'uv--3.vcf', 'uv--1.vcf', 'uv+-1.vcf', 'uv+-2.vcf', 'uv++1.vcf', 'uv++2.vcf', 'uv++3.vcf', 'uv+-3.vcf', 'uv--2.vcf']\n",
      "18\n",
      "18\n",
      "19\n",
      "23\n",
      "18\n",
      "29\n",
      "21\n",
      "39\n",
      "63\n",
      "71\n",
      "50\n",
      "31\n",
      "96\n",
      "9\n",
      "82\n",
      "17\n",
      "54\n"
     ]
    }
   ],
   "source": [
    "printd(files)\n",
    "for x in mutations:\n",
    "    printd(len(x))"
   ]
  },
  {
   "cell_type": "code",
   "execution_count": null,
   "metadata": {
    "collapsed": false
   },
   "outputs": [],
   "source": []
  },
  {
   "cell_type": "code",
   "execution_count": null,
   "metadata": {
    "collapsed": true
   },
   "outputs": [],
   "source": []
  }
 ],
 "metadata": {
  "kernelspec": {
   "display_name": "Python 2",
   "language": "python",
   "name": "python2"
  },
  "language_info": {
   "codemirror_mode": {
    "name": "ipython",
    "version": 2
   },
   "file_extension": ".py",
   "mimetype": "text/x-python",
   "name": "python",
   "nbconvert_exporter": "python",
   "pygments_lexer": "ipython2",
   "version": "2.7.6"
  }
 },
 "nbformat": 4,
 "nbformat_minor": 0
}
